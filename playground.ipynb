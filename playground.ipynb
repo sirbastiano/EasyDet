{
 "cells": [
  {
   "cell_type": "code",
   "execution_count": 1,
   "metadata": {},
   "outputs": [],
   "source": [
    "%load_ext autoreload\n",
    "%autoreload 2\n",
    "%matplotlib notebook"
   ]
  },
  {
   "cell_type": "markdown",
   "metadata": {},
   "source": [
    "### This is a playground!\n",
    "\n",
    "Here you can quickly test some code, visualize your data"
   ]
  },
  {
   "cell_type": "code",
   "execution_count": 2,
   "metadata": {},
   "outputs": [
    {
     "name": "stdout",
     "output_type": "stream",
     "text": [
      "/home/roberto/PythonProjects/RDetector/EasyDet\n"
     ]
    }
   ],
   "source": [
    "%cd /home/roberto/PythonProjects/RDetector/EasyDet"
   ]
  },
  {
   "cell_type": "code",
   "execution_count": 22,
   "metadata": {},
   "outputs": [],
   "source": []
  },
  {
   "cell_type": "code",
   "execution_count": 38,
   "metadata": {},
   "outputs": [],
   "source": [
    "import torch \n",
    "import torch.nn as nn\n",
    "from models.moat import MBConvBlock "
   ]
  },
  {
   "cell_type": "code",
   "execution_count": 36,
   "metadata": {},
   "outputs": [],
   "source": [
    "from models.BBlocks.basics import drop_path, trunc_normal_, Mlp, DropPath, DepthwiseSeparableConv, SqueezeAndExcitationBlock\n"
   ]
  },
  {
   "cell_type": "code",
   "execution_count": 52,
   "metadata": {},
   "outputs": [
    {
     "name": "stdout",
     "output_type": "stream",
     "text": [
      "torch.Size([1, 6])\n",
      "torch.Size([1, 6, 1, 1])\n",
      "torch.Size([1, 6, 256, 256])\n"
     ]
    }
   ],
   "source": [
    "# write a test for SqueezeAndExcitationBlock\n",
    "se = SqueezeAndExcitationBlock(6, 8)\n",
    "\n",
    "x = torch.randn(1, 6, 256, 256)\n",
    "y = se(x)\n",
    "print(y.shape)\n"
   ]
  },
  {
   "cell_type": "code",
   "execution_count": 54,
   "metadata": {},
   "outputs": [
    {
     "name": "stdout",
     "output_type": "stream",
     "text": [
      "input in MBConvBlock torch.Size([1, 3, 128, 128])\n",
      "torch.Size([1, 6, 32, 32])\n"
     ]
    }
   ],
   "source": [
    "\n",
    "\n",
    "mbconvblock = MBConvBlock(in_channels=3, out_channels=6, downscale=True, use_se=True, expand_ratio= 6.)\n",
    "x = torch.randn(1, 3, 128, 128)\n",
    "y = mbconvblock(x)\n",
    "print(y.shape)"
   ]
  }
 ],
 "metadata": {
  "kernelspec": {
   "display_name": "Python 3",
   "language": "python",
   "name": "python3"
  },
  "language_info": {
   "codemirror_mode": {
    "name": "ipython",
    "version": 3
   },
   "file_extension": ".py",
   "mimetype": "text/x-python",
   "name": "python",
   "nbconvert_exporter": "python",
   "pygments_lexer": "ipython3",
   "version": "3.8.16"
  }
 },
 "nbformat": 4,
 "nbformat_minor": 2
}
